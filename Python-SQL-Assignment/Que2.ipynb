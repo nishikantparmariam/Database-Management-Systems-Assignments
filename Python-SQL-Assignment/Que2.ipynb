{
 "cells": [
  {
   "cell_type": "code",
   "execution_count": 15,
   "metadata": {},
   "outputs": [],
   "source": [
    "import mysql.connector\n",
    "from pprint import pprint\n",
    "import sys\n",
    "import pandas as pd\n",
    "import re"
   ]
  },
  {
   "cell_type": "code",
   "execution_count": 16,
   "metadata": {},
   "outputs": [],
   "source": [
    "class DB:\n",
    "    def __init__(self,host,user,password):  \n",
    "        try:\n",
    "            self.db_conn = mysql.connector.connect(host=host,user=user,password=password)        \n",
    "        except Exception as e:\n",
    "            print(e)\n",
    "            sys.exit(0)\n",
    "\n",
    "    def create_db(self):\n",
    "        try:    \n",
    "            query_delete_if_db_exists = \"DROP DATABASE IF EXISTS RandomX\"\n",
    "            query_create_db = \"CREATE DATABASE RandomX\"\n",
    "            query_use_db = \"USE RandomX\"\n",
    "            db_cursor = self.db_conn.cursor()        \n",
    "            db_cursor.execute(query_delete_if_db_exists) \n",
    "            db_cursor.execute(query_create_db) \n",
    "            db_cursor.execute(query_use_db) \n",
    "        except Exception as e:\n",
    "            print(e)\n",
    "            sys.exit(0)\n",
    "\n",
    "\n",
    "    def create_schema_for_tables(self):\n",
    "        try:\n",
    "            query_user_table = \"CREATE TABLE users (username VARCHAR(100) NOT NULL ,gender enum('m','f') NOT NULL,age INT NOT NULL,PRIMARY KEY (username))\"\n",
    "            query_movie_table = \"CREATE TABLE movies (movie_id VARCHAR(100) NOT NULL ,movie_title VARCHAR(100) NOT NULL,audience_rating DECIMAL(3,2) NOT NULL,PRIMARY KEY (movie_id))\"\n",
    "            query_movie_review_table = \"CREATE TABLE movie_reviews (review_id INT NOT NULL AUTO_INCREMENT,movie_id VARCHAR(100) NOT NULL ,username VARCHAR(100) NOT NULL,movie_rev VARCHAR(1000) NOT NULL,PRIMARY KEY (review_id),FOREIGN KEY (username) REFERENCES users(username), FOREIGN KEY (movie_id) REFERENCES movies(movie_id))\"\n",
    "            db_cursor = self.db_conn.cursor()        \n",
    "            db_cursor.execute(query_user_table)\n",
    "            db_cursor.execute(query_movie_table)\n",
    "            db_cursor.execute(query_movie_review_table)\n",
    "        except Exception as e:\n",
    "            print(e)\n",
    "            sys.exit(0)      \n",
    "\n",
    "    def insert_user_data(self, user_data):\n",
    "        try:\n",
    "            db_cursor = self.db_conn.cursor()\n",
    "            query = \"INSERT INTO users (username, gender, age) VALUES (%s, %s, %s)\"\n",
    "            db_cursor.executemany(query, user_data)\n",
    "            print(str(db_cursor.rowcount)+\" row(s) inserted.\")\n",
    "            self.db_conn.commit()\n",
    "        except Exception as e:\n",
    "            print(e)\n",
    "            sys.exit(0)\n",
    "\n",
    "    def insert_movie_data(self, movie_data):\n",
    "        try:\n",
    "            db_cursor = self.db_conn.cursor()            \n",
    "            query = \"INSERT INTO movies (movie_id, movie_title, audience_rating) VALUES (%s, %s, %s)\"\n",
    "            db_cursor.executemany(query, movie_data)\n",
    "            print(str(db_cursor.rowcount)+\" row(s) inserted.\")\n",
    "            self.db_conn.commit()\n",
    "        except Exception as e:\n",
    "            print(e)\n",
    "            sys.exit(0)\n",
    "\n",
    "    def insert_movie_review_data(self, movie_review_data):\n",
    "        try:\n",
    "            db_cursor = self.db_conn.cursor()            \n",
    "            query = \"INSERT INTO movie_reviews (movie_id, username, movie_rev) VALUES (%s, %s, %s)\"\n",
    "            db_cursor.executemany(query, movie_review_data)\n",
    "            print(str(db_cursor.rowcount)+\" row(s) inserted.\")\n",
    "            self.db_conn.commit()\n",
    "        except Exception as e:\n",
    "            print(e)\n",
    "            sys.exit(0)\n",
    "\n",
    "    def create_sentiment_column(self):\n",
    "        try:\n",
    "            db_cursor = self.db_conn.cursor()            \n",
    "            query = \"ALTER TABLE movie_reviews ADD COLUMN sentiment enum('positive','negative','neutral') NOT NULL\"\n",
    "            db_cursor.execute(query)            \n",
    "        except Exception as e:\n",
    "            print(e)\n",
    "            sys.exit(0)    \n",
    "\n",
    "    def update_sentiment_value(self, positive_words, negative_words):\n",
    "        try:            \n",
    "            db_cursor = self.db_conn.cursor()\n",
    "            query = \"SELECT * FROM movie_reviews\"\n",
    "            db_cursor.execute(query)                  \n",
    "            data = db_cursor.fetchall()  \n",
    "            column_names = [column[0] for column in db_cursor.description] \n",
    "            reviews = []\n",
    "            \n",
    "            for row in data:\n",
    "                reviews.append(dict(zip(column_names, row)))\n",
    "            \n",
    "            for review in reviews:\n",
    "                \n",
    "                positive_count = 0\n",
    "                negative_count = 0\n",
    "                exp = re.compile('[A-Za-z]+')\n",
    "                words_in_review = list(exp.findall(review['movie_rev'].lower()))   \n",
    "                \n",
    "                for word in words_in_review:\n",
    "                    if word in positive_words:\n",
    "                        positive_count+=1\n",
    "                    if word in negative_words:\n",
    "                        negative_count+=1\n",
    "                        \n",
    "                if positive_count > negative_count:\n",
    "                    sentiment = \"positive\"\n",
    "                elif positive_count < negative_count:\n",
    "                    sentiment = \"negative\"\n",
    "                else:\n",
    "                    sentiment = \"neutral\"\n",
    "                    \n",
    "                query = \"UPDATE movie_reviews SET sentiment = %s WHERE review_id = %s\"\n",
    "                db_cursor.execute(query, (sentiment, review['review_id']))\n",
    "                self.db_conn.commit()                            \n",
    "                \n",
    "        except Exception as e:\n",
    "            print(e)\n",
    "            sys.exit(0)  \n",
    "    \n",
    "    def find_movies(self, limit, rating, positive_sentiment):\n",
    "        try:\n",
    "            db_cursor = self.db_conn.cursor()\n",
    "            query = \"SELECT unsorted_table.movie_title FROM (SELECT movies.*, IFNULL(movies_with_positive_sentiment_count.positive_sentiment_count, 0) as positive_sentiment_value FROM movies LEFT OUTER JOIN (SELECT movies.*, COUNT(*) as positive_sentiment_count FROM movies NATURAL JOIN movie_reviews WHERE movie_reviews.sentiment = 'positive' GROUP BY movies.movie_id) as movies_with_positive_sentiment_count ON movies_with_positive_sentiment_count.movie_id = movies.movie_id WHERE movies.audience_rating > %s HAVING positive_sentiment_value >= %s) as unsorted_table ORDER BY unsorted_table.audience_rating DESC LIMIT %s\"\n",
    "            db_cursor.execute(query, (rating, positive_sentiment, limit))\n",
    "            data = db_cursor.fetchall()\n",
    "            column_names = [column[0] for column in db_cursor.description] \n",
    "            self.print_for_select(column_names, data)\n",
    "        except Exception as e:\n",
    "            print(e)\n",
    "            sys.exit(0) \n",
    "\n",
    "    def print_for_select(self, column_names, data):\n",
    "        for row in data:\n",
    "            pprint(dict(zip(column_names, row)))\n",
    "            print()    \n",
    "\n",
    "    def close(self):\n",
    "        try:\n",
    "            self.db_conn.close()\n",
    "        except Exception as e:\n",
    "            print(e)\n",
    "            sys.exit(0)        "
   ]
  },
  {
   "cell_type": "code",
   "execution_count": 17,
   "metadata": {},
   "outputs": [],
   "source": [
    "db = DB(\"localhost\",\"newuser\",\"newpass\")"
   ]
  },
  {
   "cell_type": "markdown",
   "metadata": {},
   "source": [
    "### Part A"
   ]
  },
  {
   "cell_type": "code",
   "execution_count": 18,
   "metadata": {},
   "outputs": [],
   "source": [
    "db.create_db()\n",
    "db.create_schema_for_tables()"
   ]
  },
  {
   "cell_type": "markdown",
   "metadata": {},
   "source": [
    "### Part B"
   ]
  },
  {
   "cell_type": "code",
   "execution_count": 19,
   "metadata": {},
   "outputs": [
    {
     "name": "stdout",
     "output_type": "stream",
     "text": [
      "20 row(s) inserted.\n",
      "100 row(s) inserted.\n",
      "500 row(s) inserted.\n"
     ]
    }
   ],
   "source": [
    "try:\n",
    "    user_data_raw = pd.read_excel('userdata.xls')\n",
    "except Exception as e:\n",
    "    print(e)\n",
    "    sys.exit(0)\n",
    "\n",
    "user_data = []\n",
    "for index in range(len(user_data_raw)):\n",
    "    user_data.append((user_data_raw['username'][index], user_data_raw['gender'][index], int(user_data_raw['age'][index])))\n",
    "\n",
    "db.insert_user_data(user_data)\n",
    "\n",
    "\n",
    "try:\n",
    "    movie_data_raw = pd.read_excel('movie_info.xlsx')\n",
    "except Exception as e:\n",
    "    print(e)\n",
    "    sys.exit(0)\n",
    "\n",
    "movie_data = []\n",
    "for index in range(len(movie_data_raw)):\n",
    "    movie_data.append((movie_data_raw['movie_id'][index], movie_data_raw['movie_title'][index], float(movie_data_raw['audience_rating'][index])))\n",
    "\n",
    "db.insert_movie_data(movie_data)\n",
    "\n",
    "try:\n",
    "    movie_review_data_raw = pd.read_excel('movie_reviews.xls')\n",
    "except Exception as e:\n",
    "    print(e)\n",
    "    sys.exit(0)\n",
    "\n",
    "movie_review_data = []\n",
    "for index in range(len(movie_review_data_raw)):\n",
    "    movie_review_data.append((movie_review_data_raw['movie_id'][index], movie_review_data_raw['user_name'][index], movie_review_data_raw['movie_rev'][index]))    \n",
    "\n",
    "db.insert_movie_review_data(movie_review_data)"
   ]
  },
  {
   "cell_type": "markdown",
   "metadata": {},
   "source": [
    "### Part C"
   ]
  },
  {
   "cell_type": "code",
   "execution_count": 20,
   "metadata": {},
   "outputs": [],
   "source": [
    "positive_words_file = open('positive-words.txt')\n",
    "positive_words = set([line.rstrip().lower() for line in positive_words_file.readlines()])\n",
    "negative_words_file = open('negative-words.txt')\n",
    "negative_words = set([line.rstrip().lower() for line in negative_words_file.readlines()])\n",
    "\n",
    "db.create_sentiment_column()\n",
    "db.update_sentiment_value(positive_words, negative_words)"
   ]
  },
  {
   "cell_type": "markdown",
   "metadata": {},
   "source": [
    "### Part D"
   ]
  },
  {
   "cell_type": "code",
   "execution_count": 21,
   "metadata": {},
   "outputs": [
    {
     "name": "stdout",
     "output_type": "stream",
     "text": [
      "{'movie_title': 'The Lord of the Rings: The Fellowship of the Ring'}\n",
      "\n",
      "{'movie_title': 'Room'}\n",
      "\n",
      "{'movie_title': 'The Man Who Shot Liberty Valance'}\n",
      "\n",
      "{'movie_title': 'Duck Soup'}\n",
      "\n",
      "{'movie_title': 'Run Lola Run'}\n",
      "\n"
     ]
    }
   ],
   "source": [
    "db.find_movies(5, 3.5, 2)"
   ]
  }
 ],
 "metadata": {
  "kernelspec": {
   "display_name": "Python 3",
   "language": "python",
   "name": "python3"
  },
  "language_info": {
   "codemirror_mode": {
    "name": "ipython",
    "version": 3
   },
   "file_extension": ".py",
   "mimetype": "text/x-python",
   "name": "python",
   "nbconvert_exporter": "python",
   "pygments_lexer": "ipython3",
   "version": "3.7.0"
  }
 },
 "nbformat": 4,
 "nbformat_minor": 2
}
